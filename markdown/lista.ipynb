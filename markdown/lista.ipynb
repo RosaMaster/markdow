{
 "cells": [
  {
   "cell_type": "markdown",
   "metadata": {},
   "source": [
    "Em Markdown, uma lista é uma maneira de organizar itens de forma ordenada ou não ordenada. Existem dois tipos principais de listas:\n",
    "\n",
    "Lista não ordenada: Usa -, * ou + para marcar os itens."
   ]
  },
  {
   "cell_type": "markdown",
   "metadata": {},
   "source": [
    "- Item 1\n",
    "    - Sub-Item 1.1\n",
    "        - Elemento A\n",
    "            -   Sub-Elemento A1\n",
    "        - Elemento B\n",
    "- Item 2\n",
    "- Item 3"
   ]
  },
  {
   "cell_type": "code",
   "execution_count": 1,
   "metadata": {},
   "outputs": [],
   "source": [
    "# - Item 1\n",
    "#     - Sub-Item 1.1\n",
    "#         - Elemento A\n",
    "#             -   Sub-Elemento A1\n",
    "#         - Elemento B\n",
    "# - Item 2\n",
    "# - Item 3"
   ]
  },
  {
   "cell_type": "markdown",
   "metadata": {},
   "source": [
    "Lista ordenada: Usa números seguidos de ponto.\n",
    "Essas listas ajudam a organizar informações de maneira clara e estruturada."
   ]
  },
  {
   "cell_type": "markdown",
   "metadata": {},
   "source": [
    "1. Item 1\n",
    "    1. Sub-Item 1.1\n",
    "        1. Elemento A\n",
    "            1. Sub-Elemento A1\n",
    "        1. Elemento B\n",
    "2. Item 2\n",
    "3. Item 3"
   ]
  },
  {
   "cell_type": "code",
   "execution_count": 2,
   "metadata": {},
   "outputs": [],
   "source": [
    "# 1. Item 1\n",
    "#     1. Sub-Item 1.1\n",
    "#         1. Elemento A\n",
    "#             1. Sub-Elemento A1\n",
    "#         1. Elemento B\n",
    "# 2. Item 2\n",
    "# 3. Item 3"
   ]
  }
 ],
 "metadata": {
  "kernelspec": {
   "display_name": "Python 3",
   "language": "python",
   "name": "python3"
  },
  "language_info": {
   "codemirror_mode": {
    "name": "ipython",
    "version": 3
   },
   "file_extension": ".py",
   "mimetype": "text/x-python",
   "name": "python",
   "nbconvert_exporter": "python",
   "pygments_lexer": "ipython3",
   "version": "3.12.2"
  }
 },
 "nbformat": 4,
 "nbformat_minor": 2
}
