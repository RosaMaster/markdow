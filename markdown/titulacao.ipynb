{
 "cells": [
  {
   "cell_type": "markdown",
   "metadata": {},
   "source": [
    "Em Markdown, você pode criar títulos usando o símbolo #. O número de # determina o nível do título, de 1 a 6. Aqui estão alguns exemplos:"
   ]
  },
  {
   "cell_type": "markdown",
   "metadata": {},
   "source": [
    "# Título de Nível 1\n",
    "## Título de Nível 2\n",
    "### Título de Nível 3\n",
    "#### Título de Nível 4\n",
    "##### Título de Nível 5\n",
    "###### Título de Nível 6"
   ]
  },
  {
   "cell_type": "code",
   "execution_count": 1,
   "metadata": {},
   "outputs": [],
   "source": [
    "# Título de Nível 1\n",
    "## Título de Nível 2\n",
    "### Título de Nível 3\n",
    "#### Título de Nível 4\n",
    "##### Título de Nível 5\n",
    "###### Título de Nível 6"
   ]
  }
 ],
 "metadata": {
  "kernelspec": {
   "display_name": "Python 3",
   "language": "python",
   "name": "python3"
  },
  "language_info": {
   "codemirror_mode": {
    "name": "ipython",
    "version": 3
   },
   "file_extension": ".py",
   "mimetype": "text/x-python",
   "name": "python",
   "nbconvert_exporter": "python",
   "pygments_lexer": "ipython3",
   "version": "3.12.2"
  }
 },
 "nbformat": 4,
 "nbformat_minor": 2
}
