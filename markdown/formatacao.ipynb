{
 "cells": [
  {
   "cell_type": "markdown",
   "metadata": {},
   "source": [
    "Formatação em Markdown refere-se ao uso de uma sintaxe simples e legível para aplicar estilos e estrutura ao texto. Isso inclui:<br>\n",
    "\n",
    "Negrito: **texto** ou __texto__ <br><br>\n",
    "Itálico: *texto* ou _texto_ <br><br>\n",
    "<del>Riscado</del>: ~~texto~~ <br><br>\n",
    "Código: `texto` <br><br>\n",
    "Links: texto <br><br>\n",
    "Listas: - item ou 1. item <br><br>\n",
    "Títulos: # Título até ###### Título <br><br>\n",
    "Blocos de citação: > texto <br><br>\n",
    "Tabelas: Estruturas com | e -"
   ]
  },
  {
   "cell_type": "code",
   "execution_count": 1,
   "metadata": {},
   "outputs": [],
   "source": [
    "# Negrito: **texto** ou __texto__\n",
    "# Itálico: *texto* ou _texto_\n",
    "# <del>Riscado</del>: ~~texto~~\n",
    "# Código: `texto`\n",
    "# Links: texto\n",
    "# Listas: - item ou 1. item\n",
    "# Títulos: # Título até ###### Título\n",
    "# Blocos de citação: > texto\n",
    "# Tabelas: Estruturas com | e -"
   ]
  },
  {
   "cell_type": "markdown",
   "metadata": {},
   "source": [
    "Notas de rodapé\n",
    "Você pode adicionar notas de rodapé ao seu conteúdo usando esta sintaxe entre colchetes:\n",
    "\n",
    "Here is a simple footnote[^1].\n",
    "\n",
    "A footnote can also have multiple lines[^2].\n",
    "\n",
    "[^1]: My reference. <br>\n",
    "[^2]: To add line breaks within a footnote, prefix new lines with 2 spaces.\n",
    "  This is a second line."
   ]
  },
  {
   "cell_type": "markdown",
   "metadata": {},
   "source": [
    "Alertas\n",
    "Alertas são uma extensão Markdown baseada na sintaxe blockquote que você pode usar para enfatizar informações críticas. Em GitHub, eles são exibidos com cores e ícones distintos para indicar a importância do conteúdo.\n",
    "\n",
    "Use alertas apenas quando eles forem cruciais para o sucesso do usuário e limite-os a um ou dois por artigo para evitar sobrecarregar o leitor. Além disso, você deve evitar colocar alertas consecutivamente. Os alertas não podem ser aninhados em outros elementos.\n",
    "\n",
    "Para adicionar um alerta, use uma linha de citação especial especificando o tipo de alerta, seguida pelas informações do alerta em uma citação padrão. Cinco tipos de alertas estão disponíveis:\n",
    "\n",
    "> [!NOTE]\n",
    "> Useful information that users should know, even when skimming content.\n",
    "\n",
    "> [!TIP]\n",
    "> Helpful advice for doing things better or more easily.\n",
    "\n",
    "> [!IMPORTANT]\n",
    "> Key information users need to know to achieve their goal.\n",
    "\n",
    "> [!WARNING]\n",
    "> Urgent info that needs immediate user attention to avoid problems.\n",
    "\n",
    "> [!CAUTION]\n",
    "> Advises about risks or negative outcomes of certain actions."
   ]
  }
 ],
 "metadata": {
  "kernelspec": {
   "display_name": "Python 3",
   "language": "python",
   "name": "python3"
  },
  "language_info": {
   "codemirror_mode": {
    "name": "ipython",
    "version": 3
   },
   "file_extension": ".py",
   "mimetype": "text/x-python",
   "name": "python",
   "nbconvert_exporter": "python",
   "pygments_lexer": "ipython3",
   "version": "3.12.2"
  }
 },
 "nbformat": 4,
 "nbformat_minor": 2
}
