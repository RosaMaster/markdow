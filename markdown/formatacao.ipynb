{
 "cells": [
  {
   "cell_type": "markdown",
   "metadata": {},
   "source": [
    "Formatação em Markdown refere-se ao uso de uma sintaxe simples e legível para aplicar estilos e estrutura ao texto. Isso inclui:<br>\n",
    "\n",
    "Negrito: **texto** ou __texto__ <br><br>\n",
    "Itálico: *texto* ou _texto_ <br><br>\n",
    "<del>Riscado</del>: ~~texto~~ <br><br>\n",
    "Código: `texto` <br><br>\n",
    "Links: texto <br><br>\n",
    "Listas: - item ou 1. item <br><br>\n",
    "Títulos: # Título até ###### Título <br><br>\n",
    "Blocos de citação: > texto <br><br>\n",
    "Tabelas: Estruturas com | e -"
   ]
  },
  {
   "cell_type": "code",
   "execution_count": 1,
   "metadata": {},
   "outputs": [],
   "source": [
    "# Negrito: **texto** ou __texto__\n",
    "# Itálico: *texto* ou _texto_\n",
    "# <del>Riscado</del>: ~~texto~~\n",
    "# Código: `texto`\n",
    "# Links: texto\n",
    "# Listas: - item ou 1. item\n",
    "# Títulos: # Título até ###### Título\n",
    "# Blocos de citação: > texto\n",
    "# Tabelas: Estruturas com | e -"
   ]
  }
 ],
 "metadata": {
  "kernelspec": {
   "display_name": "Python 3",
   "language": "python",
   "name": "python3"
  },
  "language_info": {
   "codemirror_mode": {
    "name": "ipython",
    "version": 3
   },
   "file_extension": ".py",
   "mimetype": "text/x-python",
   "name": "python",
   "nbconvert_exporter": "python",
   "pygments_lexer": "ipython3",
   "version": "3.12.2"
  }
 },
 "nbformat": 4,
 "nbformat_minor": 2
}
