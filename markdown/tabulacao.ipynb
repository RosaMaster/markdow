{
 "cells": [
  {
   "cell_type": "markdown",
   "metadata": {},
   "source": [
    "Tabulação é o processo de organizar dados em tabelas, que são estruturas que permitem a visualização e análise de informações de forma clara e estruturada. Em programação, tabulação também pode se referir ao uso de caracteres de tabulação (tabs) para alinhar código de forma legível."
   ]
  },
  {
   "cell_type": "markdown",
   "metadata": {},
   "source": [
    "| Coluna 1 | Coluna 2 | Coluna 3 |\n",
    "|----------|----------|----------|\n",
    "| Linha 1  | Dados 1  | Dados 2  |\n",
    "| Linha 2  | Dados 3  | Dados 4  |\n",
    "| Linha 3  | Dados 5  | Dados 6  |"
   ]
  },
  {
   "cell_type": "code",
   "execution_count": 1,
   "metadata": {},
   "outputs": [],
   "source": [
    "# | Coluna 1 | Coluna 2 | Coluna 3 |\n",
    "# |----------|----------|----------|\n",
    "# | Linha 1  | Dados 1  | Dados 2  |\n",
    "# | Linha 2  | Dados 3  | Dados 4  |\n",
    "# | Linha 3  | Dados 5  | Dados 6  |"
   ]
  }
 ],
 "metadata": {
  "kernelspec": {
   "display_name": "Python 3",
   "language": "python",
   "name": "python3"
  },
  "language_info": {
   "codemirror_mode": {
    "name": "ipython",
    "version": 3
   },
   "file_extension": ".py",
   "mimetype": "text/x-python",
   "name": "python",
   "nbconvert_exporter": "python",
   "pygments_lexer": "ipython3",
   "version": "3.12.2"
  }
 },
 "nbformat": 4,
 "nbformat_minor": 2
}
