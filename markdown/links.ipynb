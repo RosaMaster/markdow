{
 "cells": [
  {
   "cell_type": "markdown",
   "metadata": {},
   "source": [
    "Links\n",
    "Existem duas formas de inserir link em Markdown, através de um link direto ou usando um texto-âncora:\n",
    "\n",
    "Texto-âncora: utilize os caracteres [](), adicionando entre chaves o texto que você quer que apareça, e entre os parênteses, o endereço de destino, no formato \n",
    "\n",
    "~~~~ Markdown\n",
    "[exemplo](https://exemplo.com/)\n",
    "~~~~\n",
    "\n",
    "Link direto: envolva o endereço da web em chaves <>. O endereço ficará visível e será clicável pelo usuário. O endereço em forma de link direto tem o formato\n",
    "\n",
    "~~~~ Markdown\n",
    "<https://exemplo.com/>\n",
    "~~~~"
   ]
  },
  {
   "cell_type": "markdown",
   "metadata": {},
   "source": [
    "Este é um [link em formato de texto](www.google.com), e este é um link direto <https://www.google.com/>"
   ]
  }
 ],
 "metadata": {
  "language_info": {
   "name": "python"
  }
 },
 "nbformat": 4,
 "nbformat_minor": 2
}
