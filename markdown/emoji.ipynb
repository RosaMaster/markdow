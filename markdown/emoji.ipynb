{
 "cells": [
  {
   "cell_type": "markdown",
   "metadata": {},
   "source": [
    "Em Markdown, você pode usar emojis utilizando a sintaxe de dois pontos : em volta do nome do emoji. Aqui estão alguns exemplos:\n",
    "\n",
    "Documentação: [Complete list of github markdown emoji markup](https://gist.github.com/rxaviers/7360908)\n",
    "\n",
    "😀 :grinning: <br>\n",
    "👍 :thumbsup: <br>\n",
    "🚀 :rocket: <br>\n",
    "❤️ :heart: <br>"
   ]
  },
  {
   "cell_type": "markdown",
   "metadata": {},
   "source": [
    "# Título com Emoji :grinning:\n",
    "Este é um exemplo de texto com um emoji de foguete :rocket: e um coração :heart:.\n",
    "\n",
    "~~~Markdown\n",
    "# Título com Emoji :grinning:\n",
    "Este é um exemplo de texto com um emoji de foguete :rocket: e um coração :heart:.\n",
    "~~~"
   ]
  }
 ],
 "metadata": {
  "language_info": {
   "name": "python"
  }
 },
 "nbformat": 4,
 "nbformat_minor": 2
}
