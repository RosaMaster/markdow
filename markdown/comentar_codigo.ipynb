{
 "cells": [
  {
   "cell_type": "markdown",
   "metadata": {},
   "source": [
    "Ocultando o conteúdo com comentários\n",
    "Você pode dizer a GitHub para ocultar o conteúdo do markdown interpretado, colocando o conteúdo em um comentário HTML.\n",
    "\n",
    "~~~markdown\n",
    "\n",
    "<!-- This content will not appear in the rendered Markdown -->\n",
    "\n",
    "~~~"
   ]
  }
 ],
 "metadata": {
  "language_info": {
   "name": "python"
  }
 },
 "nbformat": 4,
 "nbformat_minor": 2
}
