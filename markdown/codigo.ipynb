{
 "cells": [
  {
   "cell_type": "markdown",
   "metadata": {},
   "source": [
    "Código (Code Highlight)\n",
    "Há dois modos de adicionar trechos de código ao Markdown:\n",
    "\n",
    "Código em linha (inline): adicione um acento grave ˋ no início e no final do código.\n",
    "Múltiplas linhas de código: envolva as linhas de código com três acentos graves ˋˋˋ ou três tils ~~~."
   ]
  },
  {
   "cell_type": "markdown",
   "metadata": {},
   "source": [
    " Esta é uma linha que contém um ˋcódigoˋ.\n",
    "\n",
    "ˋˋˋ\n",
    "Esta é uma linha de código\n",
    " ˋˋˋ"
   ]
  },
  {
   "cell_type": "markdown",
   "metadata": {},
   "source": [
    "Para especificar que tipo de linguagem está sendo apresentada no bloco de códigos adicionando o nome da linguagem de programação após o ˋˋˋ ou ~~~, por exemplo ~~~javascript ou ~~~ruby. Veja nos exemplos abaixo:"
   ]
  },
  {
   "cell_type": "markdown",
   "metadata": {},
   "source": [
    "~~~javascript\n",
    "console.log(\"Olá, mundo!\");\n",
    "~~~\n",
    "\n",
    "~~~php\n",
    "<?php echo \"Olá, mundo!\"; ?>\n",
    "~~~\n",
    "\n",
    "~~~html\n",
    "<p>Olá, mundo!</p>\n",
    "~~~\n",
    "\n",
    "~~~python\n",
    "x = 50\n",
    "~~~\n",
    "\n",
    "~~~sql\n",
    "select * from databse limit 10\n",
    "~~~"
   ]
  },
  {
   "cell_type": "code",
   "execution_count": null,
   "metadata": {},
   "outputs": [],
   "source": [
    "# ~~~javascript\n",
    "# console.log(\"Olá, mundo!\");\n",
    "# ~~~\n",
    "\n",
    "# ~~~php\n",
    "# <?php echo \"Olá, mundo!\"; ?>\n",
    "# ~~~\n",
    "\n",
    "# ~~~html\n",
    "# <p>Olá, mundo!</p>\n",
    "# ~~~\n",
    "\n",
    "# ~~~python\n",
    "# x = 50\n",
    "# ~~~\n",
    "\n",
    "# ~~~sql\n",
    "# select * from databse limit 10\n",
    "# ~~~"
   ]
  }
 ],
 "metadata": {
  "language_info": {
   "name": "python"
  }
 },
 "nbformat": 4,
 "nbformat_minor": 2
}
