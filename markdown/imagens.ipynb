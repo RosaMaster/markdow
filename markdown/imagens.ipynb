{
 "cells": [
  {
   "cell_type": "markdown",
   "metadata": {},
   "source": [
    "O código para inserir uma imagem no conteúdo é semelhante ao código de inserir links-âncora, adicionando um ponto de exclamação ! no início do código, como no exemplo abaixo:\n",
    "\n",
    "~~~ Markdown\n",
    "![Alt ou título da imagem](URL da imagem)\n",
    "~~~"
   ]
  },
  {
   "cell_type": "markdown",
   "metadata": {},
   "source": [
    "![Por do Sol](https://www.grupobz.com.br/wp-content/uploads/2024/06/WhatsApp-Image-2024-06-14-at-15.02.49-1024x574.jpeg)\n",
    "\n",
    "~~~ Markdown\n",
    "![Por do Sol](https://www.grupobz.com.br/wp-content/uploads/2024/06/WhatsApp-Image-2024-06-14-at-15.02.49-1024x574.jpeg)\n",
    "~~~"
   ]
  },
  {
   "cell_type": "markdown",
   "metadata": {},
   "source": [
    "Especificando o tema para o qual uma imagem será exibida\n",
    "Você pode especificar o tema para o qual uma imagem é exibida no Markdown usando o elemento HTML <picture> em combinação com o recurso de mídia prefers-color-scheme. Nós distinguimos entre os modos de cores claro e escuro. Portanto, há duas opções disponíveis. Você pode usar essas opções para exibir imagens otimizadas para fundos escuros ou claros. Isso é particularmente útil para imagens PNG transparentes.\n",
    "\n",
    "Por exemplo, o seguinte código exibe uma imagem de sol para temas claros e uma lua para temas escuros:"
   ]
  },
  {
   "cell_type": "markdown",
   "metadata": {},
   "source": [
    "<picture>\n",
    "  <source media=\"(prefers-color-scheme: dark)\" srcset=\"https://user-images.githubusercontent.com/25423296/163456776-7f95b81a-f1ed-45f7-b7ab-8fa810d529fa.png\">\n",
    "  <source media=\"(prefers-color-scheme: light)\" srcset=\"https://user-images.githubusercontent.com/25423296/163456779-a8556205-d0a5-45e2-ac17-42d089e3c3f8.png\">\n",
    "  <img alt=\"Shows an illustrated sun in light mode and a moon with stars in dark mode.\" src=\"https://user-images.githubusercontent.com/25423296/163456779-a8556205-d0a5-45e2-ac17-42d089e3c3f8.png\">\n",
    "</picture>"
   ]
  }
 ],
 "metadata": {
  "language_info": {
   "name": "python"
  }
 },
 "nbformat": 4,
 "nbformat_minor": 2
}
