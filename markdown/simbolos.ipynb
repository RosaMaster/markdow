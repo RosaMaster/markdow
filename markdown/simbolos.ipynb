{
 "cells": [
  {
   "cell_type": "markdown",
   "metadata": {},
   "source": [
    "Em Markdown, símbolos são caracteres especiais usados para aplicar formatação ao texto. Aqui estão alguns exemplos de símbolos e seu uso:"
   ]
  },
  {
   "cell_type": "markdown",
   "metadata": {},
   "source": [
    "### $ - $ <br>\n",
    "\n",
    "### $ / $ <br>\n",
    "\n",
    "### $ * $ <br>\n",
    "\n",
    "### $ ! $ <br>\n",
    "\n",
    "### $ @ $ <br>\n",
    "\n",
    "### $ $ $ <br>\n",
    "\n",
    "### $ ¨ $ <br>\n",
    "\n",
    "### $ a¹ $ <br>"
   ]
  },
  {
   "cell_type": "code",
   "execution_count": 1,
   "metadata": {},
   "outputs": [],
   "source": [
    "### $ - $\n",
    "\n",
    "### $ / $\n",
    "\n",
    "### $ * $\n",
    "\n",
    "### $ ! $\n",
    "\n",
    "### $ @ $\n",
    "\n",
    "### $ $ $\n",
    "\n",
    "### $ ¨ $\n",
    "\n",
    "### $ a¹ $"
   ]
  }
 ],
 "metadata": {
  "kernelspec": {
   "display_name": "Python 3",
   "language": "python",
   "name": "python3"
  },
  "language_info": {
   "codemirror_mode": {
    "name": "ipython",
    "version": 3
   },
   "file_extension": ".py",
   "mimetype": "text/x-python",
   "name": "python",
   "nbconvert_exporter": "python",
   "pygments_lexer": "ipython3",
   "version": "3.12.2"
  }
 },
 "nbformat": 4,
 "nbformat_minor": 2
}
